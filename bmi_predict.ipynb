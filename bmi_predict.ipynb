{
  "nbformat": 4,
  "nbformat_minor": 0,
  "metadata": {
    "colab": {
      "provenance": [],
      "include_colab_link": true
    },
    "kernelspec": {
      "name": "python3",
      "display_name": "Python 3"
    },
    "language_info": {
      "name": "python"
    }
  },
  "cells": [
    {
      "cell_type": "markdown",
      "metadata": {
        "id": "view-in-github",
        "colab_type": "text"
      },
      "source": [
        "<a href=\"https://colab.research.google.com/github/s408440153/bmi-predict/blob/main/bmi_predict.ipynb\" target=\"_parent\"><img src=\"https://colab.research.google.com/assets/colab-badge.svg\" alt=\"Open In Colab\"/></a>"
      ]
    },
    {
      "cell_type": "code",
      "execution_count": null,
      "metadata": {
        "id": "sK33keLyHmEt"
      },
      "outputs": [],
      "source": [
        "import pandas as pd\n",
        "import numpy as np\n",
        "from matplotlib import pyplot as plt\n",
        "import seaborn as sns\n",
        "## For preprocessing\n",
        "from sklearn.impute import SimpleImputer\n",
        "from sklearn.preprocessing import StandardScaler\n",
        "from sklearn.preprocessing import OneHotEncoder\n",
        "from sklearn.model_selection import train_test_split\n",
        "from sklearn.model_selection import cross_val_score\n",
        "from sklearn.model_selection import GridSearchCV\n",
        "from sklearn.preprocessing import StandardScaler,MinMaxScaler,LabelEncoder\n",
        "from sklearn.metrics import mean_squared_error\n",
        "## 我們所使用的Machine Learning Algorithm\n",
        "from sklearn.linear_model import LinearRegression,SGDRegressor\n",
        "from xgboost import XGBRegressor\n",
        "## For Evaluation Model\n",
        "from sklearn.metrics import r2_score"
      ]
    },
    {
      "cell_type": "code",
      "source": [
        "data = pd.read_csv('./bmi_data.csv')"
      ],
      "metadata": {
        "id": "sUnOBLX9IoZ1"
      },
      "execution_count": null,
      "outputs": []
    },
    {
      "cell_type": "code",
      "source": [
        "data.describe()"
      ],
      "metadata": {
        "colab": {
          "base_uri": "https://localhost:8080/",
          "height": 300
        },
        "id": "pE4YFtXAS3Dl",
        "outputId": "52cbfe5f-6548-4ac5-f978-12bca0d517ab"
      },
      "execution_count": null,
      "outputs": [
        {
          "output_type": "execute_result",
          "data": {
            "text/plain": [
              "                Age  Height(Inches)  Weight(Pounds)           BMI\n",
              "count  25000.000000    24981.000000    24984.000000  24950.000000\n",
              "mean      26.499600       67.992968      127.078208     19.321368\n",
              "std        5.190379        1.901481       11.663043      1.552091\n",
              "min       18.000000       60.278360       78.014760     13.070879\n",
              "25%       22.000000       66.704930      119.307775     18.278339\n",
              "50%       27.000000       67.995920      127.156700     19.302160\n",
              "75%       31.000000       69.272370      134.894050     20.357547\n",
              "max       35.000000       75.152800      170.924000     26.023756"
            ],
            "text/html": [
              "\n",
              "  <div id=\"df-c4dab354-2341-4405-8a6b-8b558871e980\">\n",
              "    <div class=\"colab-df-container\">\n",
              "      <div>\n",
              "<style scoped>\n",
              "    .dataframe tbody tr th:only-of-type {\n",
              "        vertical-align: middle;\n",
              "    }\n",
              "\n",
              "    .dataframe tbody tr th {\n",
              "        vertical-align: top;\n",
              "    }\n",
              "\n",
              "    .dataframe thead th {\n",
              "        text-align: right;\n",
              "    }\n",
              "</style>\n",
              "<table border=\"1\" class=\"dataframe\">\n",
              "  <thead>\n",
              "    <tr style=\"text-align: right;\">\n",
              "      <th></th>\n",
              "      <th>Age</th>\n",
              "      <th>Height(Inches)</th>\n",
              "      <th>Weight(Pounds)</th>\n",
              "      <th>BMI</th>\n",
              "    </tr>\n",
              "  </thead>\n",
              "  <tbody>\n",
              "    <tr>\n",
              "      <th>count</th>\n",
              "      <td>25000.000000</td>\n",
              "      <td>24981.000000</td>\n",
              "      <td>24984.000000</td>\n",
              "      <td>24950.000000</td>\n",
              "    </tr>\n",
              "    <tr>\n",
              "      <th>mean</th>\n",
              "      <td>26.499600</td>\n",
              "      <td>67.992968</td>\n",
              "      <td>127.078208</td>\n",
              "      <td>19.321368</td>\n",
              "    </tr>\n",
              "    <tr>\n",
              "      <th>std</th>\n",
              "      <td>5.190379</td>\n",
              "      <td>1.901481</td>\n",
              "      <td>11.663043</td>\n",
              "      <td>1.552091</td>\n",
              "    </tr>\n",
              "    <tr>\n",
              "      <th>min</th>\n",
              "      <td>18.000000</td>\n",
              "      <td>60.278360</td>\n",
              "      <td>78.014760</td>\n",
              "      <td>13.070879</td>\n",
              "    </tr>\n",
              "    <tr>\n",
              "      <th>25%</th>\n",
              "      <td>22.000000</td>\n",
              "      <td>66.704930</td>\n",
              "      <td>119.307775</td>\n",
              "      <td>18.278339</td>\n",
              "    </tr>\n",
              "    <tr>\n",
              "      <th>50%</th>\n",
              "      <td>27.000000</td>\n",
              "      <td>67.995920</td>\n",
              "      <td>127.156700</td>\n",
              "      <td>19.302160</td>\n",
              "    </tr>\n",
              "    <tr>\n",
              "      <th>75%</th>\n",
              "      <td>31.000000</td>\n",
              "      <td>69.272370</td>\n",
              "      <td>134.894050</td>\n",
              "      <td>20.357547</td>\n",
              "    </tr>\n",
              "    <tr>\n",
              "      <th>max</th>\n",
              "      <td>35.000000</td>\n",
              "      <td>75.152800</td>\n",
              "      <td>170.924000</td>\n",
              "      <td>26.023756</td>\n",
              "    </tr>\n",
              "  </tbody>\n",
              "</table>\n",
              "</div>\n",
              "      <button class=\"colab-df-convert\" onclick=\"convertToInteractive('df-c4dab354-2341-4405-8a6b-8b558871e980')\"\n",
              "              title=\"Convert this dataframe to an interactive table.\"\n",
              "              style=\"display:none;\">\n",
              "        \n",
              "  <svg xmlns=\"http://www.w3.org/2000/svg\" height=\"24px\"viewBox=\"0 0 24 24\"\n",
              "       width=\"24px\">\n",
              "    <path d=\"M0 0h24v24H0V0z\" fill=\"none\"/>\n",
              "    <path d=\"M18.56 5.44l.94 2.06.94-2.06 2.06-.94-2.06-.94-.94-2.06-.94 2.06-2.06.94zm-11 1L8.5 8.5l.94-2.06 2.06-.94-2.06-.94L8.5 2.5l-.94 2.06-2.06.94zm10 10l.94 2.06.94-2.06 2.06-.94-2.06-.94-.94-2.06-.94 2.06-2.06.94z\"/><path d=\"M17.41 7.96l-1.37-1.37c-.4-.4-.92-.59-1.43-.59-.52 0-1.04.2-1.43.59L10.3 9.45l-7.72 7.72c-.78.78-.78 2.05 0 2.83L4 21.41c.39.39.9.59 1.41.59.51 0 1.02-.2 1.41-.59l7.78-7.78 2.81-2.81c.8-.78.8-2.07 0-2.86zM5.41 20L4 18.59l7.72-7.72 1.47 1.35L5.41 20z\"/>\n",
              "  </svg>\n",
              "      </button>\n",
              "      \n",
              "  <style>\n",
              "    .colab-df-container {\n",
              "      display:flex;\n",
              "      flex-wrap:wrap;\n",
              "      gap: 12px;\n",
              "    }\n",
              "\n",
              "    .colab-df-convert {\n",
              "      background-color: #E8F0FE;\n",
              "      border: none;\n",
              "      border-radius: 50%;\n",
              "      cursor: pointer;\n",
              "      display: none;\n",
              "      fill: #1967D2;\n",
              "      height: 32px;\n",
              "      padding: 0 0 0 0;\n",
              "      width: 32px;\n",
              "    }\n",
              "\n",
              "    .colab-df-convert:hover {\n",
              "      background-color: #E2EBFA;\n",
              "      box-shadow: 0px 1px 2px rgba(60, 64, 67, 0.3), 0px 1px 3px 1px rgba(60, 64, 67, 0.15);\n",
              "      fill: #174EA6;\n",
              "    }\n",
              "\n",
              "    [theme=dark] .colab-df-convert {\n",
              "      background-color: #3B4455;\n",
              "      fill: #D2E3FC;\n",
              "    }\n",
              "\n",
              "    [theme=dark] .colab-df-convert:hover {\n",
              "      background-color: #434B5C;\n",
              "      box-shadow: 0px 1px 3px 1px rgba(0, 0, 0, 0.15);\n",
              "      filter: drop-shadow(0px 1px 2px rgba(0, 0, 0, 0.3));\n",
              "      fill: #FFFFFF;\n",
              "    }\n",
              "  </style>\n",
              "\n",
              "      <script>\n",
              "        const buttonEl =\n",
              "          document.querySelector('#df-c4dab354-2341-4405-8a6b-8b558871e980 button.colab-df-convert');\n",
              "        buttonEl.style.display =\n",
              "          google.colab.kernel.accessAllowed ? 'block' : 'none';\n",
              "\n",
              "        async function convertToInteractive(key) {\n",
              "          const element = document.querySelector('#df-c4dab354-2341-4405-8a6b-8b558871e980');\n",
              "          const dataTable =\n",
              "            await google.colab.kernel.invokeFunction('convertToInteractive',\n",
              "                                                     [key], {});\n",
              "          if (!dataTable) return;\n",
              "\n",
              "          const docLinkHtml = 'Like what you see? Visit the ' +\n",
              "            '<a target=\"_blank\" href=https://colab.research.google.com/notebooks/data_table.ipynb>data table notebook</a>'\n",
              "            + ' to learn more about interactive tables.';\n",
              "          element.innerHTML = '';\n",
              "          dataTable['output_type'] = 'display_data';\n",
              "          await google.colab.output.renderOutput(dataTable, element);\n",
              "          const docLink = document.createElement('div');\n",
              "          docLink.innerHTML = docLinkHtml;\n",
              "          element.appendChild(docLink);\n",
              "        }\n",
              "      </script>\n",
              "    </div>\n",
              "  </div>\n",
              "  "
            ]
          },
          "metadata": {},
          "execution_count": 86
        }
      ]
    },
    {
      "cell_type": "code",
      "source": [
        "plt.figure(figsize=(10, 5))\n",
        "plt.title('Age Distribution')\n",
        "sns.distplot(data['Age'])\n",
        "plt.show()"
      ],
      "metadata": {
        "colab": {
          "base_uri": "https://localhost:8080/",
          "height": 405
        },
        "id": "q8tpiaHpTHSC",
        "outputId": "7be38971-3119-4088-8858-d7bc783bd4ce"
      },
      "execution_count": null,
      "outputs": [
        {
          "output_type": "stream",
          "name": "stderr",
          "text": [
            "/usr/local/lib/python3.8/dist-packages/seaborn/distributions.py:2619: FutureWarning: `distplot` is a deprecated function and will be removed in a future version. Please adapt your code to use either `displot` (a figure-level function with similar flexibility) or `histplot` (an axes-level function for histograms).\n",
            "  warnings.warn(msg, FutureWarning)\n"
          ]
        },
        {
          "output_type": "display_data",
          "data": {
            "text/plain": [
              "<Figure size 720x360 with 1 Axes>"
            ],
            "image/png": "[encoded data removed]"
          },
          "metadata": {
            "needs_background": "light"
          }
        }
      ]
    },
    {
      "cell_type": "code",
      "source": [
        "plt.figure(figsize=(10, 5))\n",
        "plt.title('Weight Distribution')\n",
        "sns.distplot(data['Weight(Pounds)'])\n",
        "plt.show()"
      ],
      "metadata": {
        "colab": {
          "base_uri": "https://localhost:8080/",
          "height": 405
        },
        "id": "fsg9B6AqTcJA",
        "outputId": "c8cd5ba9-3955-419b-bb07-54b9f497cb85"
      },
      "execution_count": null,
      "outputs": [
        {
          "output_type": "stream",
          "name": "stderr",
          "text": [
            "/usr/local/lib/python3.8/dist-packages/seaborn/distributions.py:2619: FutureWarning: `distplot` is a deprecated function and will be removed in a future version. Please adapt your code to use either `displot` (a figure-level function with similar flexibility) or `histplot` (an axes-level function for histograms).\n",
            "  warnings.warn(msg, FutureWarning)\n"
          ]
        },
        {
          "output_type": "display_data",
          "data": {
            "text/plain": [
              "<Figure size 720x360 with 1 Axes>"
            ],
            "image/png": "[encoded data removed]"
          },
          "metadata": {
            "needs_background": "light"
          }
        }
      ]
    },
    {
      "cell_type": "code",
      "source": [
        "plt.figure(figsize=(10, 5))\n",
        "plt.title('BMI Distribution')\n",
        "sns.distplot(data['BMI'])\n",
        "plt.show()"
      ],
      "metadata": {
        "colab": {
          "base_uri": "https://localhost:8080/",
          "height": 405
        },
        "id": "dulS2FzjTgKj",
        "outputId": "3274cd1c-d7e3-423a-bdbc-b5fd1f1b6fe0"
      },
      "execution_count": null,
      "outputs": [
        {
          "output_type": "stream",
          "name": "stderr",
          "text": [
            "/usr/local/lib/python3.8/dist-packages/seaborn/distributions.py:2619: FutureWarning: `distplot` is a deprecated function and will be removed in a future version. Please adapt your code to use either `displot` (a figure-level function with similar flexibility) or `histplot` (an axes-level function for histograms).\n",
            "  warnings.warn(msg, FutureWarning)\n"
          ]
        },
        {
          "output_type": "display_data",
          "data": {
            "text/plain": [
              "<Figure size 720x360 with 1 Axes>"
            ],
            "image/png": "[encoded data removed]"
          },
          "metadata": {
            "needs_background": "light"
          }
        }
      ]
    },
    {
      "cell_type": "code",
      "source": [
        "plt.figure(figsize=(10, 5))\n",
        "sns.countplot(data['Sex'])\n",
        "plt.title('Sex Count')\n",
        "plt.show()"
      ],
      "metadata": {
        "colab": {
          "base_uri": "https://localhost:8080/",
          "height": 405
        },
        "id": "QYmGrac5TvV4",
        "outputId": "4ebdf60c-9d88-48d1-830c-aca3baa19bde"
      },
      "execution_count": null,
      "outputs": [
        {
          "output_type": "stream",
          "name": "stderr",
          "text": [
            "/usr/local/lib/python3.8/dist-packages/seaborn/_decorators.py:36: FutureWarning: Pass the following variable as a keyword arg: x. From version 0.12, the only valid positional argument will be `data`, and passing other arguments without an explicit keyword will result in an error or misinterpretation.\n",
            "  warnings.warn(\n"
          ]
        },
        {
          "output_type": "display_data",
          "data": {
            "text/plain": [
              "<Figure size 720x360 with 1 Axes>"
            ],
            "image/png": "[encoded data removed]"
          },
          "metadata": {
            "needs_background": "light"
          }
        }
      ]
    },
    {
      "cell_type": "code",
      "source": [
        "#將Sex資料取出並刪除該columns\n",
        "sex = data[['Sex']]\n",
        "data.drop(columns='Sex', axis=1, inplace=True)"
      ],
      "metadata": {
        "id": "7rCc9p1vL-rg"
      },
      "execution_count": null,
      "outputs": []
    },
    {
      "cell_type": "code",
      "source": [
        "#將data中有空缺的值進行中位數插補\n",
        "imputer = SimpleImputer(missing_values=np.nan, strategy='median')\n",
        "Data = pd.DataFrame(imputer.fit_transform(data), columns=data.columns)\n",
        "# Sex變成無序型的類別型資料\n",
        "OneHot = OneHotEncoder(sparse=False)\n",
        "SEX = pd.DataFrame(OneHot.fit_transform(sex), columns=OneHot.get_feature_names_out())\n"
      ],
      "metadata": {
        "id": "FcqVFQ6LIpci"
      },
      "execution_count": null,
      "outputs": []
    },
    {
      "cell_type": "code",
      "source": [
        "# 將BMI資料取出並刪除該columns\n",
        "target = Data['BMI']\n",
        "Data.drop(columns='BMI', axis=1, inplace=True)"
      ],
      "metadata": {
        "id": "F4ip9cpFItaa"
      },
      "execution_count": null,
      "outputs": []
    },
    {
      "cell_type": "code",
      "source": [
        "# 把最後的data做標準化\n",
        "scale = StandardScaler()\n",
        "scaleData = pd.DataFrame(scale.fit_transform(Data), columns=Data.columns)\n",
        "\n",
        "#把SEX,scaleData的所有資料分成train和test\n",
        "newData = pd.concat([SEX, scaleData], axis=1)\n",
        "train_data,test_data,train_target,test_target\\\n",
        "        =train_test_split(newData, target, test_size=0.3, random_state=42)\n"
      ],
      "metadata": {
        "id": "89BYbnaSIvM-"
      },
      "execution_count": null,
      "outputs": []
    },
    {
      "cell_type": "code",
      "source": [
        "#使用XGboost，並判斷正確度\n",
        "XGB = XGBRegressor(verbosity=0)\n",
        "XGB.fit(train_data, train_target)"
      ],
      "metadata": {
        "colab": {
          "base_uri": "https://localhost:8080/"
        },
        "id": "8voIYWn4Iw6m",
        "outputId": "b6975141-30ae-41e4-f190-7c761e929149"
      },
      "execution_count": null,
      "outputs": [
        {
          "output_type": "execute_result",
          "data": {
            "text/plain": [
              "XGBRegressor(verbosity=0)"
            ]
          },
          "metadata": {},
          "execution_count": 95
        }
      ]
    },
    {
      "cell_type": "code",
      "source": [
        "#將資料分成五組並做交叉驗證\n",
        "xgb_cv = cross_val_score(XGB, newData, target, cv=5)\n",
        "print('Cross validation scores: ', xgb_cv)\n",
        "print('Cross validation mean: ', np.mean(xgb_cv))\n",
        "\n",
        "#預測testdata的prediction並和test_target做比較\n",
        "prediction = XGB.predict(test_data)\n",
        "print('predict score: ',r2_score(test_target, prediction))"
      ],
      "metadata": {
        "colab": {
          "base_uri": "https://localhost:8080/"
        },
        "id": "4rqvdeujIyyK",
        "outputId": "5dca029d-7cf1-4e0d-a565-93944b26c72b"
      },
      "execution_count": null,
      "outputs": [
        {
          "output_type": "stream",
          "name": "stdout",
          "text": [
            "Cross validation scores:  [0.99733137 0.99756482 0.99742449 0.99610164 0.98968233]\n",
            "Cross validation mean:  0.9956209317053762\n",
            "predict score:  0.9964306964475258\n"
          ]
        }
      ]
    },
    {
      "cell_type": "code",
      "source": [
        "plt.figure(figsize = (10,5))\n",
        "sns.regplot(x=test_target,y=prediction)\n",
        "plt.title('XGBRegressor', fontsize = 20)"
      ],
      "metadata": {
        "colab": {
          "base_uri": "https://localhost:8080/",
          "height": 372
        },
        "id": "urh1yyUAWAAd",
        "outputId": "ab50cfa4-fd0c-46e3-9c6a-e2b8228da901"
      },
      "execution_count": null,
      "outputs": [
        {
          "output_type": "execute_result",
          "data": {
            "text/plain": [
              "Text(0.5, 1.0, 'XGBRegressor')"
            ]
          },
          "metadata": {},
          "execution_count": 97
        },
        {
          "output_type": "display_data",
          "data": {
            "text/plain": [
              "<Figure size 720x360 with 1 Axes>"
            ],
            "image/png": "[encoded data removed]"
          },
          "metadata": {
            "needs_background": "light"
          }
        }
      ]
    },
    {
      "cell_type": "code",
      "source": [
        "# linner Regression\n",
        "df = pd.read_csv('./bmi_data.csv')"
      ],
      "metadata": {
        "id": "2kaiN9dWXPK7"
      },
      "execution_count": null,
      "outputs": []
    },
    {
      "cell_type": "code",
      "source": [
        "mean_Height = df[['Sex','Height(Inches)']].groupby('Sex').mean()\n",
        "Height_mapping = dict(zip(mean_Height.index, mean_Height['Height(Inches)']))\n",
        "for i in range(len(df['Height(Inches)'].isnull())):\n",
        "    if df['Height(Inches)'].isnull()[i]:\n",
        "        df.loc[i,'Height(Inches)'] = Height_mapping.get(df['Sex'][i])\n",
        "\n",
        "mean_Weight = df[['Sex','Weight(Pounds)']].groupby('Sex').mean()\n",
        "Weight_mapping = dict(zip(mean_Weight.index, mean_Weight['Weight(Pounds)']))\n",
        "for i in range(len(df['Weight(Pounds)'].isnull())):\n",
        "    if df['Weight(Pounds)'].isnull()[i]:\n",
        "        df.loc[i,'Weight(Pounds)'] = Weight_mapping.get(df['Sex'][i])\n",
        "mean_BMI = df[['Sex','BMI']].groupby('Sex').mean()\n",
        "BMI_mapping = dict(zip(mean_BMI.index, mean_BMI['BMI']))\n",
        "for i in range(len(df['BMI'].isnull())):\n",
        "    if df['BMI'].isnull()[i]:\n",
        "        df.loc[i,'BMI'] = BMI_mapping.get(df['Sex'][i])"
      ],
      "metadata": {
        "id": "IT9ifmgaXDhj"
      },
      "execution_count": null,
      "outputs": []
    },
    {
      "cell_type": "code",
      "source": [
        "#把性別變成有序標籤\n",
        "sex_en = LabelEncoder()\n",
        "df['Sex'] = sex_en.fit_transform(df['Sex'].values)"
      ],
      "metadata": {
        "id": "bpIMWJ_4Xg5R"
      },
      "execution_count": null,
      "outputs": []
    },
    {
      "cell_type": "code",
      "source": [
        "#將資料分成data和target\n",
        "data = df.values[::,0:4]\n",
        "target = df.values[::,4]"
      ],
      "metadata": {
        "id": "fofP5d95Xigx"
      },
      "execution_count": null,
      "outputs": []
    },
    {
      "cell_type": "code",
      "source": [
        "#將data和target隨機分割成test和train \n",
        "train_data,test_data,train_target,test_target\\\n",
        "    =train_test_split(data,target,test_size=0.25,random_state=13)"
      ],
      "metadata": {
        "id": "DWPo_9kYXj2R"
      },
      "execution_count": null,
      "outputs": []
    },
    {
      "cell_type": "code",
      "source": [
        "#標準化\n",
        "std_traindata = StandardScaler().fit_transform(train_data)\n",
        "std_testdata = StandardScaler().fit_transform(test_data)\n",
        "std_traintarget = StandardScaler().fit_transform(train_target.reshape(-1,1))\n",
        "std_testtarget = StandardScaler().fit_transform(test_target.reshape(-1,1))"
      ],
      "metadata": {
        "id": "x7rxGqUEXl7M"
      },
      "execution_count": null,
      "outputs": []
    },
    {
      "cell_type": "code",
      "source": [
        "#建立線性預測模組，並判斷正確度\n",
        "LR = LinearRegression()\n",
        "LR.fit(std_traindata, std_traintarget)\n",
        "print(\"the value of default measurement of linear regression\"\n",
        "                    ,LR.score(std_traindata,std_traintarget))"
      ],
      "metadata": {
        "colab": {
          "base_uri": "https://localhost:8080/"
        },
        "id": "PCcdPjuEXc9P",
        "outputId": "1650d51b-5d83-4a57-e1ba-fe9e30e2cce2"
      },
      "execution_count": null,
      "outputs": [
        {
          "output_type": "stream",
          "name": "stdout",
          "text": [
            "the value of default measurement of linear regression 0.994401234448245\n"
          ]
        }
      ]
    },
    {
      "cell_type": "code",
      "source": [
        "#線性預測traindata和testdata並和traintarget以及testtarget做比較\n",
        "train_pred = LR.predict(std_traindata)\n",
        "test_pred = LR.predict(std_testdata)\n",
        "print(\"MSE train:%6f,test:%6f\" %(mean_squared_error(std_traintarget,train_pred)\n",
        "                                ,mean_squared_error(std_testtarget,test_pred)))"
      ],
      "metadata": {
        "colab": {
          "base_uri": "https://localhost:8080/"
        },
        "id": "LeZB69F2XpZW",
        "outputId": "a2901387-b1b2-4506-c1fe-a956c4d213a2"
      },
      "execution_count": null,
      "outputs": [
        {
          "output_type": "stream",
          "name": "stdout",
          "text": [
            "MSE train:0.005599,test:0.003798\n"
          ]
        }
      ]
    },
    {
      "cell_type": "code",
      "source": [
        "plt.figure(figsize = (10,5))\n",
        "sns.regplot(x=std_testtarget,y=test_pred)\n",
        "plt.title('linner Regression', fontsize = 20)"
      ],
      "metadata": {
        "colab": {
          "base_uri": "https://localhost:8080/",
          "height": 358
        },
        "id": "B7I2OzNUXtNU",
        "outputId": "e9a8a44c-f014-4803-d399-30c06d4ffe55"
      },
      "execution_count": null,
      "outputs": [
        {
          "output_type": "execute_result",
          "data": {
            "text/plain": [
              "Text(0.5, 1.0, 'linner Regression')"
            ]
          },
          "metadata": {},
          "execution_count": 112
        },
        {
          "output_type": "display_data",
          "data": {
            "text/plain": [
              "<Figure size 720x360 with 1 Axes>"
            ],
            "image/png": "[encoded data removed]"
          },
          "metadata": {
            "needs_background": "light"
          }
        }
      ]
    }
  ]
}